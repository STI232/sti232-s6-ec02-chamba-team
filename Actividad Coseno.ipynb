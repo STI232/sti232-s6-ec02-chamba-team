{
 "cells": [
  {
   "cell_type": "code",
   "execution_count": 14,
   "id": "a6887da8",
   "metadata": {},
   "outputs": [
    {
     "name": "stdout",
     "output_type": "stream",
     "text": [
      "[[0.1  0.7  0.78 0.4  0.2 ]\n",
      " [0.23 0.1  0.3  0.2  0.8 ]\n",
      " [0.2  0.64 0.75 0.2  0.4 ]\n",
      " [0.3  0.63 0.62 0.2  0.3 ]\n",
      " [0.24 0.6  0.8  0.7  0.7 ]\n",
      " [0.22 0.3  0.67 0.8  0.4 ]]\n"
     ]
    }
   ],
   "source": [
    "import numpy as np\n",
    "import ipywidgets as widgets\n",
    "from IPython.display import display\n",
    "\n",
    "base_datos = np.array([\n",
    "    [0.1, 0.70, 0.78, 0.4, 0.2],     # Valeria\n",
    "    [0.23, 0.10, 0.3, 0.2, 0.8],     # Cristian\n",
    "    [0.20, 0.64, 0.75, 0.2, 0.4],    # Daniela\n",
    "    [0.3, 0.63, 0.62, 0.2, 0.3],     # Luz meri\n",
    "    [0.24, 0.6, 0.80, 0.7, 0.7],     # diosito\n",
    "    [0.22, 0.3, 0.67, 0.8, 0.4]      # Cris evans\n",
    "])\n",
    "print(base_datos)"
   ]
  },
  {
   "cell_type": "code",
   "execution_count": 15,
   "id": "52c02099",
   "metadata": {},
   "outputs": [],
   "source": [
    "nombre1_dropdown = widgets.Dropdown(\n",
    "    options=['Valeria', 'Cristian', 'Daniela', 'Luz meri', 'diosito', 'Cris evans'],\n",
    "    description='Nombre 1:'\n",
    ")\n",
    "\n",
    "nombre2_dropdown = widgets.Dropdown(\n",
    "    options=['Valeria', 'Cristian', 'Daniela', 'Luz meri', 'diosito', 'Cris evans'],\n",
    "    description='Nombre 2:'\n",
    ")"
   ]
  },
  {
   "cell_type": "code",
   "execution_count": 16,
   "id": "9d8b1634",
   "metadata": {},
   "outputs": [],
   "source": [
    "def calcular_similitud_coseno(boton):\n",
    "    nombre1 = nombre1_dropdown.value\n",
    "    nombre2 = nombre2_dropdown.value\n",
    "\n",
    "    A = base_datos[nombre1_dropdown.index]\n",
    "    B = base_datos[nombre2_dropdown.index]\n",
    "\n",
    "    pp = np.dot(A, B)\n",
    "    magnitud_A = np.linalg.norm(A)\n",
    "    magnitud_B = np.linalg.norm(B)\n",
    "    mag = magnitud_A * magnitud_B\n",
    "\n",
    "    resultado = pp / mag\n",
    "    print('La similitud coseno es:', resultado)"
   ]
  },
  {
   "cell_type": "code",
   "execution_count": 17,
   "id": "93fc07f6",
   "metadata": {},
   "outputs": [],
   "source": [
    "calcular_boton = widgets.Button(description='Calcular Similitud Coseno')\n",
    "calcular_boton.on_click(calcular_similitud_coseno)"
   ]
  },
  {
   "cell_type": "code",
   "execution_count": 18,
   "id": "d0de47ef",
   "metadata": {},
   "outputs": [
    {
     "data": {
      "application/vnd.jupyter.widget-view+json": {
       "model_id": "c19c8a290d134431bc67ab1b7e1b34ef",
       "version_major": 2,
       "version_minor": 0
      },
      "text/plain": [
       "Dropdown(description='Nombre 1:', options=('Valeria', 'Cristian', 'Daniela', 'Luz meri', 'diosito', 'Cris evan…"
      ]
     },
     "metadata": {},
     "output_type": "display_data"
    },
    {
     "data": {
      "application/vnd.jupyter.widget-view+json": {
       "model_id": "7d20cf58036242b79505236bf5f8778a",
       "version_major": 2,
       "version_minor": 0
      },
      "text/plain": [
       "Dropdown(description='Nombre 2:', options=('Valeria', 'Cristian', 'Daniela', 'Luz meri', 'diosito', 'Cris evan…"
      ]
     },
     "metadata": {},
     "output_type": "display_data"
    },
    {
     "data": {
      "application/vnd.jupyter.widget-view+json": {
       "model_id": "68a446ee17434f039c31b8bcf620afa3",
       "version_major": 2,
       "version_minor": 0
      },
      "text/plain": [
       "Button(description='Calcular Similitud Coseno', style=ButtonStyle())"
      ]
     },
     "metadata": {},
     "output_type": "display_data"
    },
    {
     "name": "stdout",
     "output_type": "stream",
     "text": [
      "La similitud coseno es: 0.9563196245746794\n",
      "La similitud coseno es: 0.9877735390023941\n"
     ]
    }
   ],
   "source": [
    "display(nombre1_dropdown)\n",
    "display(nombre2_dropdown)\n",
    "display(calcular_boton)"
   ]
  },
  {
   "cell_type": "code",
   "execution_count": null,
   "id": "5a4fe9b9",
   "metadata": {},
   "outputs": [],
   "source": []
  }
 ],
 "metadata": {
  "kernelspec": {
   "display_name": "Python 3 (ipykernel)",
   "language": "python",
   "name": "python3"
  },
  "language_info": {
   "codemirror_mode": {
    "name": "ipython",
    "version": 3
   },
   "file_extension": ".py",
   "mimetype": "text/x-python",
   "name": "python",
   "nbconvert_exporter": "python",
   "pygments_lexer": "ipython3",
   "version": "3.11.4"
  }
 },
 "nbformat": 4,
 "nbformat_minor": 5
}
